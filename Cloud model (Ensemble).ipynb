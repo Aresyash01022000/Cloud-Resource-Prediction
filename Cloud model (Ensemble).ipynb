{
 "cells": [
  {
   "cell_type": "markdown",
   "metadata": {},
   "source": [
    "### Importing Libraries"
   ]
  },
  {
   "cell_type": "code",
   "execution_count": 1,
   "metadata": {},
   "outputs": [],
   "source": [
    "import numpy as np\n",
    "import pandas as pd\n",
    "import matplotlib.pyplot as plt"
   ]
  },
  {
   "cell_type": "markdown",
   "metadata": {},
   "source": [
    "### Importing dataset"
   ]
  },
  {
   "cell_type": "code",
   "execution_count": 2,
   "metadata": {},
   "outputs": [
    {
     "name": "stdout",
     "output_type": "stream",
     "text": [
      "     1376319196.1333334  35.88944444444442  6.575554251670838  \\\n",
      "0          1.376328e+09           0.572778           0.015556   \n",
      "1          1.376337e+09           0.608333           0.017778   \n",
      "2          1.376346e+09           0.571667           0.000000   \n",
      "3          1.376355e+09           0.592778           0.128889   \n",
      "4          1.376364e+09           0.590000           0.064444   \n",
      "..                  ...                ...                ...   \n",
      "271        1.378769e+09           2.529444           0.511111   \n",
      "272        1.378778e+09           0.673333           0.071111   \n",
      "273        1.378787e+09           0.657222           0.015556   \n",
      "274        1.378796e+09          25.768889           3.397777   \n",
      "275        1.378805e+09          10.452222           4.322222   \n",
      "\n",
      "     0.8644444444444446  4352.604444444442  78.11555555555556  \\\n",
      "0              0.000000           1.413333           0.002222   \n",
      "1              5.466667           2.428889           0.004444   \n",
      "2              0.000000           1.542222           0.002222   \n",
      "3              5.466667           2.351111           0.002222   \n",
      "4              0.000000           1.437778           0.002222   \n",
      "..                  ...                ...                ...   \n",
      "271            0.008889         322.666667           0.037778   \n",
      "272            0.000000           1.073333           0.002222   \n",
      "273            0.000000           1.513333           0.004444   \n",
      "274            0.255556        5350.522222          80.428889   \n",
      "275            5.922222        2180.766667           0.053333   \n",
      "\n",
      "     3.724444444444444  1376328197.0  0.5727777777777778  \\\n",
      "0             1.004444  1.376337e+09            0.608333   \n",
      "1             1.002222  1.376346e+09            0.571667   \n",
      "2             1.006667  1.376355e+09            0.592778   \n",
      "3             1.017778  1.376364e+09            0.590000   \n",
      "4             1.006667  1.376373e+09            0.569444   \n",
      "..                 ...           ...                 ...   \n",
      "271           1.117778  1.378778e+09            0.673333   \n",
      "272           1.000000  1.378787e+09            0.657222   \n",
      "273           1.006667  1.378796e+09           25.768889   \n",
      "274           2.391111  1.378805e+09           10.452222   \n",
      "275           1.304444  1.378814e+09            6.378333   \n",
      "\n",
      "     0.015555540720621744  ...  34.61777777777778  7.179999999999999  \\\n",
      "0                0.017778  ...         151.071111           7.431111   \n",
      "1                0.000000  ...         101.444444           3.466667   \n",
      "2                0.128889  ...         161.935556           5.394603   \n",
      "3                0.064444  ...          29.537778           2.145873   \n",
      "4                0.026667  ...           0.000000           1.002222   \n",
      "..                    ...  ...                ...                ...   \n",
      "271              0.071111  ...           0.000000           1.004444   \n",
      "272              0.015556  ...           0.000000           1.000000   \n",
      "273              3.397777  ...           0.002222           1.013333   \n",
      "274              4.322222  ...           0.004444           1.004444   \n",
      "275              0.237778  ...           0.000000           1.002540   \n",
      "\n",
      "     1376400202.6666667  70.36666666666665  13.52221981684367  \\\n",
      "0          1.376409e+09          53.138889           9.791109   \n",
      "1          1.376418e+09          92.607579          17.017616   \n",
      "2          1.376427e+09          18.697579           4.790634   \n",
      "3          1.376436e+09           0.593929           0.000000   \n",
      "4          1.376445e+09           0.580556           0.062222   \n",
      "..                  ...                ...                ...   \n",
      "271        1.378850e+09           0.666667           0.022222   \n",
      "272        1.378859e+09           0.675000           0.060000   \n",
      "273        1.378868e+09           0.663056           0.013333   \n",
      "274        1.378877e+09           0.673373           0.000000   \n",
      "275        1.378886e+09           2.394841           0.353333   \n",
      "\n",
      "     1.2266666666666666  7435.988888888891  151.0711111111111  \\\n",
      "0              5.833333        5589.064444         101.444444   \n",
      "1              6.511270       10743.812222         161.935556   \n",
      "2              0.696032        3136.226984          29.537778   \n",
      "3              0.000000           1.495714           0.000000   \n",
      "4              0.000000           1.433333           0.004444   \n",
      "..                  ...                ...                ...   \n",
      "271            5.384444           6.848889           0.000000   \n",
      "272            5.466667           2.002222           0.002222   \n",
      "273            0.282222           1.197778           0.004444   \n",
      "274            0.004444           1.542698           0.000000   \n",
      "275            1.522222           2.013333         427.708889   \n",
      "\n",
      "     7.431111111111111  8.0  \n",
      "0             3.466667  9.0  \n",
      "1             5.394603  7.0  \n",
      "2             2.145873  2.0  \n",
      "3             1.002222  2.0  \n",
      "4             1.006667  2.0  \n",
      "..                 ...  ...  \n",
      "271           1.000000  2.0  \n",
      "272           1.013333  2.0  \n",
      "273           1.004444  2.0  \n",
      "274           1.002540  4.0  \n",
      "275          12.928889  7.0  \n",
      "\n",
      "[276 rows x 71 columns]\n"
     ]
    }
   ],
   "source": [
    "dataset = pd.read_csv('1.csv', delimiter=';')\n",
    "print(dataset)\n",
    "x = dataset.iloc[:,:-1].values\n",
    "y = dataset.iloc[:,-1].values"
   ]
  },
  {
   "cell_type": "code",
   "execution_count": 3,
   "metadata": {},
   "outputs": [],
   "source": [
    "from sklearn.model_selection import train_test_split\n",
    "x_train,x_test,y_train,y_test = train_test_split(x,y, test_size = 0.2 , random_state = 42)"
   ]
  },
  {
   "cell_type": "markdown",
   "metadata": {},
   "source": [
    "### Standarising the dataset"
   ]
  },
  {
   "cell_type": "code",
   "execution_count": 4,
   "metadata": {},
   "outputs": [
    {
     "name": "stdout",
     "output_type": "stream",
     "text": [
      "[[ 1.48488297 -0.22304544 -0.24770266 ... -0.23185128 -0.21396495\n",
      "  -0.16556338]\n",
      " [ 1.16085964 -0.21897759 -0.23235043 ... -0.23149346 -0.21396495\n",
      "  -0.16556338]\n",
      " [-1.32166167 -0.22245081 -0.21699821 ... -0.2324836  -0.21387046\n",
      "  -0.16541055]\n",
      " ...\n",
      " [-0.41105471 -0.22566725 -0.23235043 ... -0.2325234  -0.21387046\n",
      "  -0.16541055]\n",
      " [ 1.63443232  7.3319761   6.22326426 ... -0.23183331 -0.21396495\n",
      "  -0.16556338]\n",
      " [-0.46090368 -0.22363332 -0.23235043 ... -0.23231834 -0.21387046\n",
      "  -0.16541055]]\n",
      "[[-1.35904781 -0.22214153 -0.23422025 ... -0.23146569 -0.21396495\n",
      "  -0.1643408 ]\n",
      " [-0.18590248 -0.22552535 -0.25793747 ... -0.2324934  -0.21396495\n",
      "  -0.16556338]\n",
      " [ 0.71221072 -0.2217886  -0.23618849 ... -0.23221074 -0.2139177\n",
      "  -0.16556338]\n",
      " ...\n",
      " [-1.5459832   7.60149494  9.25789033 ... -0.23246073 -0.2139177\n",
      "  -0.16541055]\n",
      " [ 0.23864376 -0.22524154 -0.25409942 ... -0.23249224 -0.21396495\n",
      "  -0.16556338]\n",
      " [-1.60829453  7.60828934  9.53925657 ... -0.23197056 -0.21396495\n",
      "  -0.16525773]]\n",
      "[9. 2. 2. 2. 2. 2. 2. 2. 2. 8. 2. 2. 2. 2. 2. 2. 2. 2. 2. 2. 2. 2. 2. 2.\n",
      " 2. 2. 2. 2. 9. 2. 2. 2. 2. 2. 2. 4. 2. 2. 2. 2. 2. 2. 2. 2. 2. 2. 2. 2.\n",
      " 2. 2. 2. 6. 2. 2. 2. 2. 2. 2. 2. 2. 2. 2. 8. 2. 2. 2. 9. 2. 2. 2. 2. 2.\n",
      " 2. 2. 2. 2. 2. 2. 2. 2. 2. 2. 2. 2. 2. 2. 7. 2. 2. 2. 2. 2. 2. 9. 2. 2.\n",
      " 2. 2. 2. 2. 2. 2. 2. 2. 2. 2. 2. 2. 2. 2. 2. 2. 2. 4. 2. 2. 2. 2. 2. 2.\n",
      " 5. 5. 2. 3. 2. 2. 2. 2. 2. 2. 2. 2. 2. 2. 2. 2. 2. 2. 2. 2. 9. 2. 2. 2.\n",
      " 2. 3. 2. 2. 2. 2. 2. 7. 2. 2. 2. 3. 2. 2. 2. 2. 2. 2. 5. 2. 2. 2. 2. 2.\n",
      " 2. 2. 2. 2. 2. 2. 2. 2. 2. 2. 4. 2. 2. 7. 2. 7. 2. 2. 2. 2. 2. 2. 2. 2.\n",
      " 2. 2. 8. 2. 2. 8. 2. 2. 2. 2. 2. 2. 2. 2. 2. 2. 2. 2. 2. 2. 2. 7. 2. 2.\n",
      " 2. 2. 2. 2.]\n",
      "[2. 2. 2. 2. 2. 2. 2. 2. 2. 2. 2. 2. 2. 6. 2. 2. 9. 2. 2. 2. 2. 4. 2. 2.\n",
      " 7. 2. 2. 2. 2. 2. 2. 2. 2. 2. 2. 2. 2. 2. 5. 2. 2. 2. 2. 2. 2. 2. 2. 3.\n",
      " 2. 2. 2. 2. 2. 2. 2. 2.]\n"
     ]
    }
   ],
   "source": [
    "from sklearn.preprocessing import StandardScaler\n",
    "sc = StandardScaler()\n",
    "x_train = sc.fit_transform(x_train)\n",
    "x_test = sc.transform(x_test)\n",
    "print(x_train)\n",
    "print(x_test)\n",
    "print(y_train)\n",
    "print(y_test)"
   ]
  },
  {
   "cell_type": "markdown",
   "metadata": {},
   "source": [
    "### Model using BaggingClassifier"
   ]
  },
  {
   "cell_type": "code",
   "execution_count": 5,
   "metadata": {},
   "outputs": [
    {
     "data": {
      "text/plain": [
       "BaggingClassifier(base_estimator=DecisionTreeClassifier(ccp_alpha=0.0,\n",
       "                                                        class_weight=None,\n",
       "                                                        criterion='gini',\n",
       "                                                        max_depth=None,\n",
       "                                                        max_features=None,\n",
       "                                                        max_leaf_nodes=None,\n",
       "                                                        min_impurity_decrease=0.0,\n",
       "                                                        min_impurity_split=None,\n",
       "                                                        min_samples_leaf=1,\n",
       "                                                        min_samples_split=2,\n",
       "                                                        min_weight_fraction_leaf=0.0,\n",
       "                                                        presort='deprecated',\n",
       "                                                        random_state=None,\n",
       "                                                        splitter='best'),\n",
       "                  bootstrap=True, bootstrap_features=False, max_features=1.0,\n",
       "                  max_samples=1.0, n_estimators=10, n_jobs=None,\n",
       "                  oob_score=False, random_state=42, verbose=0,\n",
       "                  warm_start=False)"
      ]
     },
     "execution_count": 5,
     "metadata": {},
     "output_type": "execute_result"
    }
   ],
   "source": [
    "from sklearn.ensemble import BaggingClassifier\n",
    "from sklearn.tree import DecisionTreeClassifier\n",
    "cart = DecisionTreeClassifier()\n",
    "bg = BaggingClassifier(base_estimator=cart,random_state=42)\n",
    "bg.fit(x_train,y_train)"
   ]
  },
  {
   "cell_type": "code",
   "execution_count": 6,
   "metadata": {},
   "outputs": [
    {
     "name": "stdout",
     "output_type": "stream",
     "text": [
      "[2. 2. 2. 2. 2. 2. 2. 2. 2. 2. 2. 2. 2. 8. 2. 2. 8. 2. 2. 2. 2. 2. 2. 2.\n",
      " 2. 2. 2. 2. 2. 2. 2. 2. 2. 2. 2. 2. 2. 2. 9. 2. 2. 2. 2. 2. 2. 2. 2. 2.\n",
      " 2. 2. 2. 2. 2. 2. 2. 2.]\n",
      "[2. 2. 2. 2. 2. 2. 2. 2. 2. 2. 2. 2. 2. 6. 2. 2. 9. 2. 2. 2. 2. 4. 2. 2.\n",
      " 7. 2. 2. 2. 2. 2. 2. 2. 2. 2. 2. 2. 2. 2. 5. 2. 2. 2. 2. 2. 2. 2. 2. 3.\n",
      " 2. 2. 2. 2. 2. 2. 2. 2.]\n"
     ]
    }
   ],
   "source": [
    "y_pred = bg.predict(x_test)\n",
    "print(y_pred)\n",
    "print(y_test)"
   ]
  },
  {
   "cell_type": "code",
   "execution_count": 7,
   "metadata": {},
   "outputs": [
    {
     "name": "stdout",
     "output_type": "stream",
     "text": [
      "[[50  0  0  0  0  0  0  0]\n",
      " [ 1  0  0  0  0  0  0  0]\n",
      " [ 1  0  0  0  0  0  0  0]\n",
      " [ 0  0  0  0  0  0  0  1]\n",
      " [ 0  0  0  0  0  0  1  0]\n",
      " [ 1  0  0  0  0  0  0  0]\n",
      " [ 0  0  0  0  0  0  0  0]\n",
      " [ 0  0  0  0  0  0  1  0]]\n",
      "0.8928571428571429\n"
     ]
    },
    {
     "data": {
      "image/png": "[encoded data removed]",
      "text/plain": [
       "<Figure size 432x288 with 2 Axes>"
      ]
     },
     "metadata": {
      "needs_background": "light"
     },
     "output_type": "display_data"
    }
   ],
   "source": [
    "from sklearn.metrics import confusion_matrix,accuracy_score,plot_confusion_matrix\n",
    "cm = confusion_matrix(y_test,y_pred)\n",
    "print(cm)\n",
    "acc1 = accuracy_score(y_test,y_pred)\n",
    "print(acc1)\n",
    "plot_confusion_matrix(bg,x_test,y_pred,cmap=plt.cm.Blues)\n",
    "plt.show()"
   ]
  },
  {
   "cell_type": "markdown",
   "metadata": {},
   "source": [
    "### Model using AdaBoostClassifier"
   ]
  },
  {
   "cell_type": "code",
   "execution_count": 8,
   "metadata": {},
   "outputs": [
    {
     "data": {
      "text/plain": [
       "AdaBoostClassifier(algorithm='SAMME.R', base_estimator=None, learning_rate=1.0,\n",
       "                   n_estimators=50, random_state=42)"
      ]
     },
     "execution_count": 8,
     "metadata": {},
     "output_type": "execute_result"
    }
   ],
   "source": [
    "from sklearn.ensemble import AdaBoostClassifier\n",
    "abc = AdaBoostClassifier(random_state = 42)\n",
    "abc.fit(x_train,y_train)"
   ]
  },
  {
   "cell_type": "code",
   "execution_count": 9,
   "metadata": {},
   "outputs": [
    {
     "name": "stdout",
     "output_type": "stream",
     "text": [
      "[2. 2. 2. 2. 2. 2. 2. 2. 2. 2. 2. 2. 3. 5. 2. 2. 7. 2. 2. 2. 2. 2. 2. 2.\n",
      " 2. 2. 2. 2. 2. 2. 2. 2. 2. 2. 2. 2. 2. 2. 7. 2. 2. 2. 2. 2. 2. 2. 5. 8.\n",
      " 2. 2. 2. 2. 2. 2. 2. 2.]\n",
      "[2. 2. 2. 2. 2. 2. 2. 2. 2. 2. 2. 2. 2. 6. 2. 2. 9. 2. 2. 2. 2. 4. 2. 2.\n",
      " 7. 2. 2. 2. 2. 2. 2. 2. 2. 2. 2. 2. 2. 2. 5. 2. 2. 2. 2. 2. 2. 2. 2. 3.\n",
      " 2. 2. 2. 2. 2. 2. 2. 2.]\n"
     ]
    }
   ],
   "source": [
    "y_predi = abc.predict(x_test)\n",
    "print(y_predi)\n",
    "print(y_test)"
   ]
  },
  {
   "cell_type": "code",
   "execution_count": 10,
   "metadata": {},
   "outputs": [
    {
     "name": "stdout",
     "output_type": "stream",
     "text": [
      "[[48  1  0  1  0  0  0  0]\n",
      " [ 0  0  0  0  0  0  1  0]\n",
      " [ 1  0  0  0  0  0  0  0]\n",
      " [ 0  0  0  0  0  1  0  0]\n",
      " [ 0  0  0  1  0  0  0  0]\n",
      " [ 1  0  0  0  0  0  0  0]\n",
      " [ 0  0  0  0  0  0  0  0]\n",
      " [ 0  0  0  0  0  1  0  0]]\n",
      "0.8571428571428571\n"
     ]
    },
    {
     "data": {
      "image/png": "[encoded data removed]",
      "text/plain": [
       "<Figure size 432x288 with 2 Axes>"
      ]
     },
     "metadata": {
      "needs_background": "light"
     },
     "output_type": "display_data"
    }
   ],
   "source": [
    "cm = confusion_matrix(y_test,y_predi)\n",
    "print(cm)\n",
    "acc2 = accuracy_score(y_test,y_predi)\n",
    "print(acc2)\n",
    "plot_confusion_matrix(abc,x_test,y_predi,cmap=plt.cm.Blues)\n",
    "plt.show()"
   ]
  },
  {
   "cell_type": "markdown",
   "metadata": {},
   "source": [
    "### Model using Gradient Boosting Classifier"
   ]
  },
  {
   "cell_type": "code",
   "execution_count": 11,
   "metadata": {},
   "outputs": [
    {
     "data": {
      "text/plain": [
       "GradientBoostingClassifier(ccp_alpha=0.0, criterion='friedman_mse', init=None,\n",
       "                           learning_rate=0.1, loss='deviance', max_depth=3,\n",
       "                           max_features=None, max_leaf_nodes=None,\n",
       "                           min_impurity_decrease=0.0, min_impurity_split=None,\n",
       "                           min_samples_leaf=1, min_samples_split=2,\n",
       "                           min_weight_fraction_leaf=0.0, n_estimators=100,\n",
       "                           n_iter_no_change=None, presort='deprecated',\n",
       "                           random_state=None, subsample=1.0, tol=0.0001,\n",
       "                           validation_fraction=0.1, verbose=0,\n",
       "                           warm_start=False)"
      ]
     },
     "execution_count": 11,
     "metadata": {},
     "output_type": "execute_result"
    }
   ],
   "source": [
    "from sklearn.ensemble import GradientBoostingClassifier\n",
    "gbc = GradientBoostingClassifier()\n",
    "gbc.fit(x_train,y_train)"
   ]
  },
  {
   "cell_type": "code",
   "execution_count": 12,
   "metadata": {},
   "outputs": [
    {
     "name": "stdout",
     "output_type": "stream",
     "text": [
      "[2. 2. 2. 2. 2. 5. 2. 2. 2. 2. 2. 2. 3. 9. 2. 2. 7. 2. 2. 2. 2. 2. 2. 2.\n",
      " 2. 2. 2. 2. 2. 2. 2. 2. 2. 2. 2. 2. 2. 7. 7. 2. 2. 2. 2. 2. 2. 2. 2. 2.\n",
      " 2. 2. 2. 2. 2. 2. 2. 2.]\n",
      "[2. 2. 2. 2. 2. 2. 2. 2. 2. 2. 2. 2. 2. 6. 2. 2. 9. 2. 2. 2. 2. 4. 2. 2.\n",
      " 7. 2. 2. 2. 2. 2. 2. 2. 2. 2. 2. 2. 2. 2. 5. 2. 2. 2. 2. 2. 2. 2. 2. 3.\n",
      " 2. 2. 2. 2. 2. 2. 2. 2.]\n"
     ]
    }
   ],
   "source": [
    "y_predic = gbc.predict(x_test)\n",
    "print(y_predic)\n",
    "print(y_test)"
   ]
  },
  {
   "cell_type": "code",
   "execution_count": 13,
   "metadata": {},
   "outputs": [
    {
     "name": "stdout",
     "output_type": "stream",
     "text": [
      "[[47  1  0  1  0  1  0]\n",
      " [ 1  0  0  0  0  0  0]\n",
      " [ 1  0  0  0  0  0  0]\n",
      " [ 0  0  0  0  0  1  0]\n",
      " [ 0  0  0  0  0  0  1]\n",
      " [ 1  0  0  0  0  0  0]\n",
      " [ 0  0  0  0  0  1  0]]\n",
      "0.8392857142857143\n"
     ]
    },
    {
     "data": {
      "image/png": "[encoded data removed]",
      "text/plain": [
       "<Figure size 432x288 with 2 Axes>"
      ]
     },
     "metadata": {
      "needs_background": "light"
     },
     "output_type": "display_data"
    }
   ],
   "source": [
    "cm = confusion_matrix(y_test,y_predic)\n",
    "print(cm)\n",
    "acc3 = accuracy_score(y_test,y_predic)\n",
    "print(acc3)\n",
    "plot_confusion_matrix(gbc,x_test,y_predic,cmap=plt.cm.Blues)\n",
    "plt.show()"
   ]
  },
  {
   "cell_type": "markdown",
   "metadata": {},
   "source": [
    "### Model Using Random Forest Classifier"
   ]
  },
  {
   "cell_type": "code",
   "execution_count": 14,
   "metadata": {},
   "outputs": [
    {
     "data": {
      "text/plain": [
       "RandomForestClassifier(bootstrap=True, ccp_alpha=0.0, class_weight=None,\n",
       "                       criterion='gini', max_depth=None, max_features='auto',\n",
       "                       max_leaf_nodes=None, max_samples=None,\n",
       "                       min_impurity_decrease=0.0, min_impurity_split=None,\n",
       "                       min_samples_leaf=1, min_samples_split=2,\n",
       "                       min_weight_fraction_leaf=0.0, n_estimators=100,\n",
       "                       n_jobs=None, oob_score=False, random_state=None,\n",
       "                       verbose=0, warm_start=False)"
      ]
     },
     "execution_count": 14,
     "metadata": {},
     "output_type": "execute_result"
    }
   ],
   "source": [
    "from sklearn.ensemble import RandomForestClassifier\n",
    "rfg = RandomForestClassifier()\n",
    "rfg.fit(x_train,y_train)"
   ]
  },
  {
   "cell_type": "code",
   "execution_count": 15,
   "metadata": {},
   "outputs": [
    {
     "name": "stdout",
     "output_type": "stream",
     "text": [
      "[2. 2. 2. 2. 2. 2. 2. 2. 2. 2. 2. 2. 2. 5. 2. 2. 9. 2. 2. 2. 2. 2. 2. 2.\n",
      " 2. 2. 2. 2. 2. 2. 2. 2. 2. 2. 2. 2. 2. 2. 5. 2. 2. 2. 2. 2. 2. 2. 2. 2.\n",
      " 2. 2. 2. 2. 2. 2. 2. 2.]\n",
      "[2. 2. 2. 2. 2. 2. 2. 2. 2. 2. 2. 2. 2. 6. 2. 2. 9. 2. 2. 2. 2. 4. 2. 2.\n",
      " 7. 2. 2. 2. 2. 2. 2. 2. 2. 2. 2. 2. 2. 2. 5. 2. 2. 2. 2. 2. 2. 2. 2. 3.\n",
      " 2. 2. 2. 2. 2. 2. 2. 2.]\n"
     ]
    }
   ],
   "source": [
    "y_predict = rfg.predict(x_test)\n",
    "print(y_predict)\n",
    "print(y_test)"
   ]
  },
  {
   "cell_type": "code",
   "execution_count": 16,
   "metadata": {},
   "outputs": [
    {
     "name": "stdout",
     "output_type": "stream",
     "text": [
      "[[50  0  0  0  0  0  0]\n",
      " [ 1  0  0  0  0  0  0]\n",
      " [ 1  0  0  0  0  0  0]\n",
      " [ 0  0  0  1  0  0  0]\n",
      " [ 0  0  0  1  0  0  0]\n",
      " [ 1  0  0  0  0  0  0]\n",
      " [ 0  0  0  0  0  0  1]]\n",
      "0.9285714285714286\n"
     ]
    },
    {
     "data": {
      "image/png": "[encoded data removed]",
      "text/plain": [
       "<Figure size 432x288 with 2 Axes>"
      ]
     },
     "metadata": {
      "needs_background": "light"
     },
     "output_type": "display_data"
    }
   ],
   "source": [
    "cm = confusion_matrix(y_test,y_predict)\n",
    "print(cm)\n",
    "acc4 = accuracy_score(y_test,y_predict)\n",
    "print(acc4)\n",
    "plot_confusion_matrix(rfg,x_test,y_predict,cmap=plt.cm.Blues)\n",
    "plt.show()"
   ]
  },
  {
   "cell_type": "markdown",
   "metadata": {},
   "source": [
    "### Model Using MPL Classifier"
   ]
  },
  {
   "cell_type": "code",
   "execution_count": 17,
   "metadata": {},
   "outputs": [
    {
     "name": "stderr",
     "output_type": "stream",
     "text": [
      "c:\\users\\91946\\appdata\\local\\programs\\python\\python38\\lib\\site-packages\\sklearn\\neural_network\\_multilayer_perceptron.py:568: ConvergenceWarning: Stochastic Optimizer: Maximum iterations (200) reached and the optimization hasn't converged yet.\n",
      "  warnings.warn(\n"
     ]
    },
    {
     "data": {
      "text/plain": [
       "MLPClassifier(activation='relu', alpha=0.0001, batch_size='auto', beta_1=0.9,\n",
       "              beta_2=0.999, early_stopping=False, epsilon=1e-08,\n",
       "              hidden_layer_sizes=(100,), learning_rate='constant',\n",
       "              learning_rate_init=0.001, max_fun=15000, max_iter=200,\n",
       "              momentum=0.9, n_iter_no_change=10, nesterovs_momentum=True,\n",
       "              power_t=0.5, random_state=None, shuffle=True, solver='adam',\n",
       "              tol=0.0001, validation_fraction=0.1, verbose=False,\n",
       "              warm_start=False)"
      ]
     },
     "execution_count": 17,
     "metadata": {},
     "output_type": "execute_result"
    }
   ],
   "source": [
    "from sklearn.neural_network import MLPClassifier\n",
    "classifier = MLPClassifier()\n",
    "classifier.fit(x_train,y_train)"
   ]
  },
  {
   "cell_type": "code",
   "execution_count": 18,
   "metadata": {},
   "outputs": [
    {
     "name": "stdout",
     "output_type": "stream",
     "text": [
      "[2. 2. 2. 2. 2. 5. 2. 2. 2. 2. 2. 2. 2. 9. 2. 2. 9. 2. 2. 2. 2. 2. 2. 2.\n",
      " 9. 2. 2. 2. 2. 2. 2. 2. 2. 2. 2. 2. 2. 7. 7. 2. 2. 2. 2. 2. 2. 2. 2. 2.\n",
      " 2. 2. 2. 2. 2. 2. 2. 9.]\n",
      "[2. 2. 2. 2. 2. 2. 2. 2. 2. 2. 2. 2. 2. 6. 2. 2. 9. 2. 2. 2. 2. 4. 2. 2.\n",
      " 7. 2. 2. 2. 2. 2. 2. 2. 2. 2. 2. 2. 2. 2. 5. 2. 2. 2. 2. 2. 2. 2. 2. 3.\n",
      " 2. 2. 2. 2. 2. 2. 2. 2.]\n"
     ]
    }
   ],
   "source": [
    "y_pre = classifier.predict(x_test)\n",
    "print(y_pre)\n",
    "print(y_test)"
   ]
  },
  {
   "cell_type": "code",
   "execution_count": 19,
   "metadata": {},
   "outputs": [
    {
     "name": "stdout",
     "output_type": "stream",
     "text": [
      "[[47  0  0  1  0  1  1]\n",
      " [ 1  0  0  0  0  0  0]\n",
      " [ 1  0  0  0  0  0  0]\n",
      " [ 0  0  0  0  0  1  0]\n",
      " [ 0  0  0  0  0  0  1]\n",
      " [ 0  0  0  0  0  0  1]\n",
      " [ 0  0  0  0  0  0  1]]\n",
      "0.8571428571428571\n"
     ]
    },
    {
     "data": {
      "image/png": "[encoded data removed]",
      "text/plain": [
       "<Figure size 432x288 with 2 Axes>"
      ]
     },
     "metadata": {
      "needs_background": "light"
     },
     "output_type": "display_data"
    }
   ],
   "source": [
    "from sklearn.metrics import confusion_matrix,accuracy_score,plot_confusion_matrix\n",
    "cm = confusion_matrix(y_test,y_pre)\n",
    "print(cm)\n",
    "acc5 = accuracy_score(y_test,y_pre)\n",
    "print(acc5)\n",
    "plot_confusion_matrix(classifier,x_test,y_pre,cmap=plt.cm.Blues)\n",
    "plt.show()"
   ]
  },
  {
   "cell_type": "code",
   "execution_count": 20,
   "metadata": {},
   "outputs": [
    {
     "data": {
      "image/png": "[encoded data removed]",
      "text/plain": [
       "<Figure size 432x288 with 1 Axes>"
      ]
     },
     "metadata": {
      "needs_background": "light"
     },
     "output_type": "display_data"
    }
   ],
   "source": [
    "labels = ['Bagging', 'AdaBoost', 'GradientBoost', 'RF','MLP']\n",
    "x_pos = np.arange(len(labels))\n",
    "sizes = [acc1, acc2, acc3, acc4, acc5]\n",
    "\n",
    "fig, ax = plt.subplots()\n",
    "\n",
    "ax.bar(x_pos, sizes, align='center', alpha=0.5)\n",
    "ax.set_ylabel('Accuracy Score')\n",
    "ax.set_xticks(x_pos)\n",
    "ax.set_xticklabels(labels)\n",
    "ax.yaxis.grid(True)\n",
    "\n"
   ]
  }
 ],
 "metadata": {
  "kernelspec": {
   "display_name": "Python 3",
   "language": "python",
   "name": "python3"
  },
  "language_info": {
   "codemirror_mode": {
    "name": "ipython",
    "version": 3
   },
   "file_extension": ".py",
   "mimetype": "text/x-python",
   "name": "python",
   "nbconvert_exporter": "python",
   "pygments_lexer": "ipython3",
   "version": "3.8.1"
  },
  "varInspector": {
   "cols": {
    "lenName": 16,
    "lenType": 16,
    "lenVar": 40
   },
   "kernels_config": {
    "python": {
     "delete_cmd_postfix": "",
     "delete_cmd_prefix": "del ",
     "library": "var_list.py",
     "varRefreshCmd": "print(var_dic_list())"
    },
    "r": {
     "delete_cmd_postfix": ") ",
     "delete_cmd_prefix": "rm(",
     "library": "var_list.r",
     "varRefreshCmd": "cat(var_dic_list()) "
    }
   },
   "types_to_exclude": [
    "module",
    "function",
    "builtin_function_or_method",
    "instance",
    "_Feature"
   ],
   "window_display": false
  }
 },
 "nbformat": 4,
 "nbformat_minor": 4
}
